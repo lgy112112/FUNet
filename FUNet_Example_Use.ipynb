{
  "nbformat": 4,
  "nbformat_minor": 0,
  "metadata": {
    "colab": {
      "provenance": [],
      "authorship_tag": "ABX9TyMfpqCLZYfJt8pRlbeq8mrV",
      "include_colab_link": true
    },
    "kernelspec": {
      "name": "python3",
      "display_name": "Python 3"
    },
    "language_info": {
      "name": "python"
    }
  },
  "cells": [
    {
      "cell_type": "markdown",
      "metadata": {
        "id": "view-in-github",
        "colab_type": "text"
      },
      "source": [
        "<a href=\"https://colab.research.google.com/github/lgy112112/FUNet/blob/master/FUNet_Example_Use.ipynb\" target=\"_parent\"><img src=\"https://colab.research.google.com/assets/colab-badge.svg\" alt=\"Open In Colab\"/></a>"
      ]
    },
    {
      "cell_type": "code",
      "source": [
        "\"\"\" Parts of the U-Net model \"\"\"\n",
        "\n",
        "import torch\n",
        "import torch.nn as nn\n",
        "import torch.nn.functional as F\n",
        "\n",
        "\n",
        "class DoubleConv(nn.Module):\n",
        "    \"\"\"(convolution => [BN] => ReLU) * 2\"\"\"\n",
        "\n",
        "    def __init__(self, in_channels, out_channels, mid_channels=None):\n",
        "        super().__init__()\n",
        "        if not mid_channels:\n",
        "            mid_channels = out_channels\n",
        "        self.double_conv = nn.Sequential(\n",
        "            nn.Conv2d(in_channels, mid_channels, kernel_size=3, padding=1, bias=False),\n",
        "            nn.BatchNorm2d(mid_channels),\n",
        "            nn.ReLU(inplace=True),\n",
        "            nn.Conv2d(mid_channels, out_channels, kernel_size=3, padding=1, bias=False),\n",
        "            nn.BatchNorm2d(out_channels),\n",
        "            nn.ReLU(inplace=True)\n",
        "        )\n",
        "\n",
        "    def forward(self, x):\n",
        "        return self.double_conv(x)\n",
        "\n",
        "\n",
        "class Down(nn.Module):\n",
        "    \"\"\"Downscaling with maxpool then double conv\"\"\"\n",
        "\n",
        "    def __init__(self, in_channels, out_channels):\n",
        "        super().__init__()\n",
        "        self.maxpool_conv = nn.Sequential(\n",
        "            nn.MaxPool2d(2),\n",
        "            DoubleConv(in_channels, out_channels)\n",
        "        )\n",
        "\n",
        "    def forward(self, x):\n",
        "        return self.maxpool_conv(x)\n",
        "\n",
        "\n",
        "class Up(nn.Module):\n",
        "    \"\"\"Upscaling then double conv\"\"\"\n",
        "\n",
        "    def __init__(self, in_channels, out_channels, bilinear=True):\n",
        "        super().__init__()\n",
        "\n",
        "        # if bilinear, use the normal convolutions to reduce the number of channels\n",
        "        if bilinear:\n",
        "            self.up = nn.Upsample(scale_factor=2, mode='bilinear', align_corners=True)\n",
        "            self.conv = DoubleConv(in_channels, out_channels, in_channels // 2)\n",
        "        else:\n",
        "            self.up = nn.ConvTranspose2d(in_channels, in_channels // 2, kernel_size=2, stride=2)\n",
        "            self.conv = DoubleConv(in_channels, out_channels)\n",
        "\n",
        "    def forward(self, x1, x2):\n",
        "        x1 = self.up(x1)\n",
        "        # input is CHW\n",
        "        diffY = x2.size()[2] - x1.size()[2]\n",
        "        diffX = x2.size()[3] - x1.size()[3]\n",
        "\n",
        "        x1 = F.pad(x1, [diffX // 2, diffX - diffX // 2,\n",
        "                        diffY // 2, diffY - diffY // 2])\n",
        "        # if you have padding issues, see\n",
        "        # https://github.com/HaiyongJiang/U-Net-Pytorch-Unstructured-Buggy/commit/0e854509c2cea854e247a9c615f175f76fbb2e3a\n",
        "        # https://github.com/xiaopeng-liao/Pytorch-UNet/commit/8ebac70e633bac59fc22bb5195e513d5832fb3bd\n",
        "        x = torch.cat([x2, x1], dim=1)\n",
        "        return self.conv(x)\n",
        "\n",
        "\n",
        "class OutConv(nn.Module):\n",
        "    def __init__(self, in_channels, out_channels):\n",
        "        super(OutConv, self).__init__()\n",
        "        self.conv = nn.Conv2d(in_channels, out_channels, kernel_size=1)\n",
        "\n",
        "    def forward(self, x):\n",
        "        return self.conv(x)"
      ],
      "metadata": {
        "id": "0NRQRWrOm7IP"
      },
      "execution_count": 1,
      "outputs": []
    },
    {
      "cell_type": "code",
      "source": [
        "import torch.nn as nn\n",
        "\n",
        "def unet_code_generator(depth, n_channels, n_classes, bilinear=False):\n",
        "    \"\"\"\n",
        "    Generates the Python code text for a UNet architecture with specified depth.\n",
        "\n",
        "    Args:\n",
        "        depth (int): The desired depth of the UNet model.\n",
        "        n_channels (int): Number of input channels.\n",
        "        n_classes (int): Number of output classes.\n",
        "        bilinear (bool): Whether to use bilinear upsampling (default: False).\n",
        "\n",
        "    Returns:\n",
        "        str: The generated Python code text defining the UNet class.\n",
        "    \"\"\"\n",
        "\n",
        "    code_text = \"\"\n",
        "\n",
        "    # --- Beginning (remains the same) ---\n",
        "    code_text += \"class UNet(nn.Module):\\n\"\n",
        "    code_text += f\"    def __init__(self, n_channels={n_channels}, n_classes={n_classes}, bilinear={bilinear}):\\n\"\n",
        "    code_text += \"        super(UNet, self).__init__()\\n\"\n",
        "    code_text += \"        self.n_channels = n_channels\\n\"\n",
        "    code_text += \"        self.n_classes = n_classes\\n\"\n",
        "    code_text += \"        self.bilinear = bilinear\\n\"\n",
        "    code_text += \"        factor = 2 if bilinear else 1\\n\\n\"\n",
        "\n",
        "    # --- Encoder blocks ---\n",
        "    code_text += \"        self.inc = DoubleConv(n_channels, 64)\\n\"  # Initial convolution\n",
        "    for i in range(1, depth):\n",
        "        in_channels = 64 * 2**(i-1)\n",
        "        out_channels = in_channels * 2\n",
        "        divide = \" // factor\" if i == depth - 1 else \"\"  # Apply division only on last 'down'\n",
        "        code_text += f\"        self.down{i} = Down({in_channels}, {out_channels}{divide})\\n\"\n",
        "    code_text += \"\\n\"\n",
        "    record = out_channels\n",
        "# --- Decoder blocks ---\n",
        "    for i in range(depth-1, 0, -1):\n",
        "        in_channels = out_channels  # Corrected calculation\n",
        "        out_channels = in_channels // 2\n",
        "        divide = \" // factor\" if i != 1 else \"\"\n",
        "        code_text += f\"        self.up{i} = Up({in_channels}, {out_channels}{divide}, bilinear)\\n\"\n",
        "    code_text += \"        self.outc = OutConv(64, n_classes)\\n\\n\"\n",
        "\n",
        "\n",
        "    # --- Forward function ---\n",
        "    code_text += \"    def forward(self, x):\\n\"\n",
        "    code_text += \"        x1 = self.inc(x)\\n\"\n",
        "\n",
        "    for i in range(1, depth):\n",
        "        code_text += f\"        x{i+1} = self.down{i}(x{i})\\n\"\n",
        "\n",
        "    # Corrected order for upsampling\n",
        "    for i in range(depth-1, 0, -1): # (4,0,-1)\n",
        "        if i == depth-1:\n",
        "            code_text += f\"        x = self.up{i}(x{depth}, x{depth-1})\\n\"\n",
        "        else:\n",
        "            code_text += f\"        x = self.up{i}(x, x{i})\\n\"\n",
        "\n",
        "    code_text += \"        logits = self.outc(x)\\n\"\n",
        "    code_text += \"        return logits\\n\"\n",
        "\n",
        "    return code_text\n"
      ],
      "metadata": {
        "id": "f4YITxGqYdSt"
      },
      "execution_count": 28,
      "outputs": []
    },
    {
      "cell_type": "code",
      "source": [
        "code_text = unet_code_generator(depth=5, n_channels=3, n_classes=10, bilinear=False)\n",
        "print(code_text)"
      ],
      "metadata": {
        "id": "hWsrpqSCYgh7"
      },
      "execution_count": null,
      "outputs": []
    },
    {
      "cell_type": "code",
      "source": [
        "class UNet(nn.Module):\n",
        "    def __init__(self, n_channels=3, n_classes=10, bilinear=True):\n",
        "        super(UNet, self).__init__()\n",
        "        self.n_channels = n_channels\n",
        "        self.n_classes = n_classes\n",
        "        self.bilinear = bilinear\n",
        "        factor = 2 if bilinear else 1\n",
        "\n",
        "        self.inc = DoubleConv(n_channels, 64)\n",
        "        self.down1 = Down(64, 128)\n",
        "        self.down2 = Down(128, 256)\n",
        "        self.down3 = Down(256, 512)\n",
        "        self.down4 = Down(512, 1024)\n",
        "        self.down5 = Down(1024, 2048 // factor)\n",
        "\n",
        "        self.up5 = Up(2048, 1024 // factor, bilinear)\n",
        "        self.up4 = Up(1024, 512 // factor, bilinear)\n",
        "        self.up3 = Up(512, 256 // factor, bilinear)\n",
        "        self.up2 = Up(256, 128 // factor, bilinear)\n",
        "        self.up1 = Up(128, 64, bilinear)\n",
        "        self.outc = OutConv(64, n_classes)\n",
        "\n",
        "    def forward(self, x):\n",
        "        x1 = self.inc(x)\n",
        "        x2 = self.down1(x1)\n",
        "        x3 = self.down2(x2)\n",
        "        x4 = self.down3(x3)\n",
        "        x5 = self.down4(x4)\n",
        "        x6 = self.down5(x5)\n",
        "        x = self.up5(x6, x5)\n",
        "        x = self.up4(x, x4)\n",
        "        x = self.up3(x, x3)\n",
        "        x = self.up2(x, x2)\n",
        "        x = self.up1(x, x1)\n",
        "        logits = self.outc(x)\n",
        "        return logits"
      ],
      "metadata": {
        "id": "0s9gix1Y3LEH"
      },
      "execution_count": 37,
      "outputs": []
    },
    {
      "cell_type": "code",
      "source": [
        "model = UNet(n_channels=3, n_classes=10, bilinear=False)\n",
        "test_input = torch.randn(1, 3, 256, 256)\n",
        "output = model(test_input)\n",
        "print(output.shape)"
      ],
      "metadata": {
        "colab": {
          "base_uri": "https://localhost:8080/"
        },
        "id": "_f2cnLFo3ONF",
        "outputId": "14627335-a279-4558-8fa5-d09c96bebd9a"
      },
      "execution_count": 38,
      "outputs": [
        {
          "output_type": "stream",
          "name": "stdout",
          "text": [
            "torch.Size([1, 10, 256, 256])\n"
          ]
        }
      ]
    }
  ]
}