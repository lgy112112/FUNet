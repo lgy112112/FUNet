{
  "nbformat": 4,
  "nbformat_minor": 0,
  "metadata": {
    "colab": {
      "provenance": [],
      "authorship_tag": "ABX9TyPopikF6mVhhkkeQqMA+7fa",
      "include_colab_link": true
    },
    "kernelspec": {
      "name": "python3",
      "display_name": "Python 3"
    },
    "language_info": {
      "name": "python"
    }
  },
  "cells": [
    {
      "cell_type": "markdown",
      "metadata": {
        "id": "view-in-github",
        "colab_type": "text"
      },
      "source": [
        "<a href=\"https://colab.research.google.com/github/lgy112112/FUNet/blob/master/FUNet_Example_Use.ipynb\" target=\"_parent\"><img src=\"https://colab.research.google.com/assets/colab-badge.svg\" alt=\"Open In Colab\"/></a>"
      ]
    },
    {
      "cell_type": "markdown",
      "source": [
        "# **1. We import**"
      ],
      "metadata": {
        "id": "PpRrZPgiBegN"
      }
    },
    {
      "cell_type": "code",
      "source": [
        "! git clone https://github.com/lgy112112/FUNet.git"
      ],
      "metadata": {
        "colab": {
          "base_uri": "https://localhost:8080/"
        },
        "id": "JE5b3mg7_BQ9",
        "outputId": "23794d3a-d546-45e1-aca1-1a4b8985fed0"
      },
      "execution_count": 1,
      "outputs": [
        {
          "output_type": "stream",
          "name": "stdout",
          "text": [
            "Cloning into 'FUNet'...\n",
            "remote: Enumerating objects: 19, done.\u001b[K\n",
            "remote: Counting objects: 100% (19/19), done.\u001b[K\n",
            "remote: Compressing objects: 100% (19/19), done.\u001b[K\n",
            "remote: Total 19 (delta 3), reused 11 (delta 0), pack-reused 0\u001b[K\n",
            "Receiving objects: 100% (19/19), 8.34 KiB | 8.34 MiB/s, done.\n",
            "Resolving deltas: 100% (3/3), done.\n"
          ]
        }
      ]
    },
    {
      "cell_type": "markdown",
      "source": [
        "# **2. We get**"
      ],
      "metadata": {
        "id": "bylQBhZcBmf3"
      }
    },
    {
      "cell_type": "code",
      "source": [
        "from FUNet.unet_code_generator import *"
      ],
      "metadata": {
        "id": "DoakqHdg_ICT"
      },
      "execution_count": 3,
      "outputs": []
    },
    {
      "cell_type": "markdown",
      "source": [
        "# **3. We print and copy**"
      ],
      "metadata": {
        "id": "dfVlMeXtBr05"
      }
    },
    {
      "cell_type": "code",
      "source": [
        "code_text = unet_code_generator(depth=5, n_channels=3, n_classes=10, bilinear=False)\n",
        "print(code_text)"
      ],
      "metadata": {
        "colab": {
          "base_uri": "https://localhost:8080/"
        },
        "id": "PosSr8hU_Y02",
        "outputId": "6d7d6205-a116-417b-d469-46691a3f2cbb"
      },
      "execution_count": 4,
      "outputs": [
        {
          "output_type": "stream",
          "name": "stdout",
          "text": [
            "from FUNet.unet_parts import *\n",
            "\n",
            "class UNet(nn.Module):\n",
            "    def __init__(self, n_channels=3, n_classes=10, bilinear=False):\n",
            "        super(UNet, self).__init__()\n",
            "        self.n_channels = n_channels\n",
            "        self.n_classes = n_classes\n",
            "        self.bilinear = bilinear\n",
            "        factor = 2 if bilinear else 1\n",
            "\n",
            "        self.inc = DoubleConv(n_channels, 64)\n",
            "        self.down1 = Down(64, 128)\n",
            "        self.down2 = Down(128, 256)\n",
            "        self.down3 = Down(256, 512)\n",
            "        self.down4 = Down(512, 1024 // factor)\n",
            "\n",
            "        self.up4 = Up(1024, 512 // factor, bilinear)\n",
            "        self.up3 = Up(512, 256 // factor, bilinear)\n",
            "        self.up2 = Up(256, 128 // factor, bilinear)\n",
            "        self.up1 = Up(128, 64, bilinear)\n",
            "        self.outc = OutConv(64, n_classes)\n",
            "\n",
            "    def forward(self, x):\n",
            "        x1 = self.inc(x)\n",
            "        x2 = self.down1(x1)\n",
            "        x3 = self.down2(x2)\n",
            "        x4 = self.down3(x3)\n",
            "        x5 = self.down4(x4)\n",
            "        x = self.up4(x5, x4)\n",
            "        x = self.up3(x, x3)\n",
            "        x = self.up2(x, x2)\n",
            "        x = self.up1(x, x1)\n",
            "        logits = self.outc(x)\n",
            "        return logits\n",
            "\n"
          ]
        }
      ]
    },
    {
      "cell_type": "markdown",
      "source": [
        "# **4. We paste**"
      ],
      "metadata": {
        "id": "kO5x7EpSBudy"
      }
    },
    {
      "cell_type": "code",
      "source": [
        "from FUNet.unet_parts import *\n",
        "\n",
        "class UNet(nn.Module):\n",
        "    def __init__(self, n_channels=3, n_classes=10, bilinear=False):\n",
        "        super(UNet, self).__init__()\n",
        "        self.n_channels = n_channels\n",
        "        self.n_classes = n_classes\n",
        "        self.bilinear = bilinear\n",
        "        factor = 2 if bilinear else 1\n",
        "\n",
        "        self.inc = DoubleConv(n_channels, 64)\n",
        "        self.down1 = Down(64, 128)\n",
        "        self.down2 = Down(128, 256)\n",
        "        self.down3 = Down(256, 512)\n",
        "        self.down4 = Down(512, 1024 // factor)\n",
        "\n",
        "        self.up4 = Up(1024, 512 // factor, bilinear)\n",
        "        self.up3 = Up(512, 256 // factor, bilinear)\n",
        "        self.up2 = Up(256, 128 // factor, bilinear)\n",
        "        self.up1 = Up(128, 64, bilinear)\n",
        "        self.outc = OutConv(64, n_classes)\n",
        "\n",
        "    def forward(self, x):\n",
        "        x1 = self.inc(x)\n",
        "        x2 = self.down1(x1)\n",
        "        x3 = self.down2(x2)\n",
        "        x4 = self.down3(x3)\n",
        "        x5 = self.down4(x4)\n",
        "        x = self.up4(x5, x4)\n",
        "        x = self.up3(x, x3)\n",
        "        x = self.up2(x, x2)\n",
        "        x = self.up1(x, x1)\n",
        "        logits = self.outc(x)\n",
        "        return logits"
      ],
      "metadata": {
        "id": "ULpnriMf_iUy"
      },
      "execution_count": 5,
      "outputs": []
    },
    {
      "cell_type": "markdown",
      "source": [
        "# **5. We drive**<img src=\"https://i.kym-cdn.com/entries/icons/original/000/047/390/cover8.jpg\" alt=\"My Image\">"
      ],
      "metadata": {
        "id": "1ZJ0bo9gB093"
      }
    },
    {
      "cell_type": "code",
      "source": [
        "model = UNet(n_channels=3, n_classes=10, bilinear=False)\n",
        "test_input = torch.randn(1, 3, 256, 256)\n",
        "output = model(test_input)\n",
        "print(output.shape)"
      ],
      "metadata": {
        "colab": {
          "base_uri": "https://localhost:8080/"
        },
        "id": "fbYd8nvpBWaV",
        "outputId": "87c87f0a-0bcb-431c-f174-4ec853a48451"
      },
      "execution_count": 6,
      "outputs": [
        {
          "output_type": "stream",
          "name": "stdout",
          "text": [
            "torch.Size([1, 10, 256, 256])\n"
          ]
        }
      ]
    }
  ]
}